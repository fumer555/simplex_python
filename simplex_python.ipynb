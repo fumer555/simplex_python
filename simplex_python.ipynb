{
  "nbformat": 4,
  "nbformat_minor": 0,
  "metadata": {
    "colab": {
      "provenance": [],
      "authorship_tag": "ABX9TyM/w6f6TulSAhpJUovLt0rM"
    },
    "kernelspec": {
      "name": "python3",
      "display_name": "Python 3"
    },
    "language_info": {
      "name": "python"
    }
  },
  "cells": [
    {
      "cell_type": "code",
      "execution_count": 1,
      "metadata": {
        "colab": {
          "base_uri": "https://localhost:8080/"
        },
        "id": "yCx6Mhp7GU_m",
        "outputId": "12fcf15e-39fb-4239-c2ad-a24e20142c4c"
      },
      "outputs": [
        {
          "output_type": "stream",
          "name": "stdout",
          "text": [
            "Solution: None\n"
          ]
        }
      ],
      "source": [
        "from sympy import Matrix, Rational\n",
        "from prettytable import PrettyTable\n",
        "\n",
        "class Simplex:\n",
        "    # Here we apply the minimization method\n",
        "    def __init__(self, objective, constraints):\n",
        "        self.tableau = self.initialize_tableau(objective, constraints)\n",
        "\n",
        "    def initialize_tableau(self, objective, constraints):\n",
        "        tableau = []\n",
        "        for (coeffs, inequality, value) in constraints:\n",
        "            if inequality == '<=':\n",
        "                slack = [0] * len(constraints)\n",
        "                slack[constraints.index((coeffs, inequality, value))] = 1\n",
        "                row = coeffs + slack+ [0] + [value]\n",
        "            elif inequality == '>=':\n",
        "                surplus = [0] * len(constraints)\n",
        "                surplus[constraints.index((coeffs, inequality, value))] = -1\n",
        "                row = coeffs + surplus+ [0] + [value]\n",
        "            tableau.append(row)\n",
        "\n",
        "        coeff, optimization_type = objective\n",
        "        ### below the default setting is the *minimization*\n",
        "        objective_row = ([c for c in coeff] if optimization_type == 'min' else [-c for c in coeff]) + [0] * len(constraints)+ [0] + [0]\n",
        "        tableau.append(objective_row)\n",
        "\n",
        "        return tableau\n",
        "\n",
        "\n",
        "\n",
        "    def find_pivot(self):\n",
        "        # Step 1: Find the pivot column\n",
        "        pivot_column = self.tableau[-1].index(min(self.tableau[-1][:-1]))\n",
        "\n",
        "        # Step 2: Find the pivot row\n",
        "        ratios = [(self.tableau[row][-1] / self.tableau[row][pivot_column]) if self.tableau[row][pivot_column] > 0 else float('inf') for row in range(len(self.tableau)-1)]\n",
        "        pivot_row = ratios.index(min(ratios))\n",
        "\n",
        "        return pivot_row, pivot_column\n",
        "\n",
        "\n",
        "    def pivot(self, pivot_row, pivot_col):\n",
        "        # Step 1: Make the pivot element equal to 1\n",
        "        self.tableau[pivot_row] = self.tableau[pivot_row] / self.tableau[pivot_row][pivot_col]\n",
        "\n",
        "        # Steps 2 and 3: Update the rest of the tableau\n",
        "        for i in range(len(self.tableau)):\n",
        "            if i != pivot_row:\n",
        "                factor = self.tableau[i][pivot_col]\n",
        "                self.tableau[i] = self.tableau[i] - factor * self.tableau[pivot_row]\n",
        "\n",
        "\n",
        "    def is_optimal(self):\n",
        "        # Check if there are any negative coefficients in the objective row (excluding the last column)\n",
        "        return all(value >= 0 for value in self.tableau[-1][:-1])\n",
        "\n",
        "    def solve(self):\n",
        "        while not self.is_optimal():\n",
        "            pivot_row, pivot_col = self.find_pivot()\n",
        "            self.pivot(pivot_row, pivot_col)\n",
        "            self.print_tableau()\n",
        "        return self.extract_solution()\n",
        "\n",
        "    def print_tableau(self):\n",
        "        table = PrettyTable()\n",
        "        # print(self.tableau)\n",
        "        for row in self.tableau:\n",
        "            table.add_row(row)\n",
        "        print(table)\n",
        "\n",
        "    def extract_solution(self):\n",
        "        # Extract the solution from the final tableau\n",
        "        pass\n",
        "\n",
        "\n",
        "if __name__ == \"__main__\":\n",
        "    # Define the objective function and constraints\n",
        "    objective = ([1, 2, 3],'min')\n",
        "    constraints = [\n",
        "        ([1, 1, 1], '<=', 10),\n",
        "        ([2, 1, 0], '>=', 8)\n",
        "    ]\n",
        "\n",
        "    # Create a Simplex solver instance\n",
        "    solver = Simplex(objective, constraints)\n",
        "\n",
        "    # Solve the problem and print the steps\n",
        "    solution = solver.solve()\n",
        "    print('Solution:', solution)\n"
      ]
    }
  ]
}